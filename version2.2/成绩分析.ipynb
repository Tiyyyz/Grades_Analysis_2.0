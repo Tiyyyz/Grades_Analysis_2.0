{
 "cells": [
  {
   "cell_type": "markdown",
   "metadata": {},
   "source": [
    "#-----前期准备-----"
   ]
  },
  {
   "cell_type": "code",
   "execution_count": 166,
   "metadata": {},
   "outputs": [],
   "source": [
    "#导入包\n",
    "import os\n",
    "import sys\n",
    "import copy\n",
    "import pandas as pd\n",
    "import numpy as np\n",
    "import matplotlib.pyplot as plt"
   ]
  },
  {
   "cell_type": "code",
   "execution_count": 167,
   "metadata": {},
   "outputs": [],
   "source": [
    "#设置常量\n",
    "\n",
    "#选择读入学期数\n",
    "term_n = 4\n",
    "#选择是否写入文件,1为是\n",
    "out_to_file = 0"
   ]
  },
  {
   "cell_type": "code",
   "execution_count": 168,
   "metadata": {},
   "outputs": [],
   "source": [
    "#文件与分表\n",
    "file = '个人成绩记录.xls'\n",
    "semesters = ['大一上学期','大一下学期','大二上学期','大二下学期','大三上学期','大三下学期','大四上学期','大四下学期']\n",
    "\n",
    "#设置选修课：[选修课种类,需修学分,需修课程数] （若无要求则填 0）\n",
    "#双学位或辅修也可在此部分实现\n",
    "option_courses = [['专业', 12, 0],['通识', 6, 0], ['实践', 2, 0]]\n",
    "\n",
    "#输出文件\n",
    "file_out = '成绩分析.doc'\n",
    "#修改文件输出\n",
    "origin_out = sys.stdout\n",
    "if out_to_file == 1:\n",
    "    sys.stdout = open(file_out, mode = 'w')"
   ]
  },
  {
   "cell_type": "markdown",
   "metadata": {},
   "source": [
    "#-----数据处理-----"
   ]
  },
  {
   "cell_type": "markdown",
   "metadata": {},
   "source": [
    "##读取数据"
   ]
  },
  {
   "cell_type": "code",
   "execution_count": 169,
   "metadata": {},
   "outputs": [],
   "source": [
    "#1-从 excel 读取数据\n",
    "data = []\n",
    "for i in range(term_n):\n",
    "    data.append(pd.read_excel(file, semesters[i]))"
   ]
  },
  {
   "cell_type": "markdown",
   "metadata": {},
   "source": [
    "##计算每学期的数据  \n",
    " 1.总学分、平均分、课程数、加权绩点(每学期)  \n",
    " 2.选修课情况  \n",
    " 3.成绩分布情况"
   ]
  },
  {
   "cell_type": "code",
   "execution_count": 170,
   "metadata": {},
   "outputs": [],
   "source": [
    "#函数-将分数转为对应绩点\n",
    "def grade_to_point(grades):\n",
    "    table_grades = [60,64, 68, 72, 75, 78, 82, 85, 90]\n",
    "    table_point = [1.3, 1.5, 2, 2.3, 2.7, 3, 3.3, 3.7, 4]\n",
    "    n = len(grades)\n",
    "    ret = []\n",
    "    for j in range(n):\n",
    "        m = grades[j]\n",
    "        n = 0\n",
    "        for i in range(len(table_grades)):\n",
    "            if(m >= table_grades[i]):\n",
    "                n = table_point[i]\n",
    "\n",
    "        ret.append( n)\n",
    "    return ret\n",
    "\n",
    "def trans_sort(text):\n",
    "    if '通识' in text:\n",
    "        return '通识'\n",
    "    elif '实践' in text:\n",
    "        return '实践'\n",
    "    else:\n",
    "        return '专业'"
   ]
  },
  {
   "cell_type": "code",
   "execution_count": 171,
   "metadata": {},
   "outputs": [],
   "source": [
    "#2.1-记录每学期的数据\n",
    "\n",
    "#格式：【总， 选】\n",
    "credits_term = [] #\b\b总学分\n",
    "courses_term = [] #课程数\n",
    "grades_term = []  #平均分\n",
    "points_term = []  #加权绩点\n",
    "\n",
    "#记录选修课情况(所有学期)\n",
    "#格式 [课程名， 选修类型， 学分， 分数]\n",
    "courses_opt = []\n",
    "\n",
    "#记录每学期成绩分布情况\n",
    "grades_distrib = []\n",
    "grades_distrib_all = {'98~100':0,'95~97':0, '90~94':0, '85~89':0, '80~84':0, '70~79':0}\n",
    "distrib_term = {'98~100':0,'95~97':0, '90~94':0, '85~89':0, '80~84':0, '70~79':0}\n",
    "distrib_ = [98, 95, 90, 85, 80, 70] #分档分数"
   ]
  },
  {
   "cell_type": "code",
   "execution_count": 172,
   "metadata": {},
   "outputs": [],
   "source": [
    "#2.2-计算每学期的数据\n",
    "\n",
    "for j in range(term_n):\n",
    "    #读取每学期数据\n",
    "    credit = data[j]['学分']\n",
    "    course = data[j]['课程']\n",
    "    grade = data[j]['分数']\n",
    "    point = grade_to_point(grade)\n",
    "    \n",
    "    sort = data[j]['课程类型']\n",
    "    \n",
    "    #记录当前学期数据\n",
    "    credit_ = [0,0]\n",
    "    grade_ = [0,0]\n",
    "    course_ = [0,0]\n",
    "    point_ = [0,0]\n",
    "    \n",
    "    #考虑 选修、必修\n",
    "    for i in range(len(sort)):\n",
    "        #所有课程\n",
    "        credit_[0] += credit[i]\n",
    "        course_[0] += 1\n",
    "        grade_[0] += grade[i] * credit[i]\n",
    "        point_[0] += point[i] * credit[i]\n",
    "\n",
    "        if '选修' not in sort[i]:\n",
    "            credit_[1] += credit[i]\n",
    "            course_[1] += 1\n",
    "            grade_[1]  += grade[i] * credit[i]\n",
    "            point_[1]  += point[i] * credit[i]\n",
    "        #记录选修课情况\n",
    "        if '选修' in sort[i]:\n",
    "            courses_opt.append([course[i], trans_sort(sort[i]), credit[i], grade[i]])\n",
    "            \n",
    "        #记录学期成绩分布\n",
    "        dis_term = copy.deepcopy(distrib_term)\n",
    "        grades_distrib.append(dis_term)\n",
    "        if grade[i] >= distrib_[0]:\n",
    "            grades_distrib[j]['98~100'] += 1\n",
    "            grades_distrib_all['98~100'] += 1\n",
    "        elif grade[i] >= distrib_[1]:\n",
    "            grades_distrib[j]['95~97'] += 1\n",
    "            grades_distrib_all['95~97'] += 1\n",
    "        elif grade[i] >= distrib_[2]:\n",
    "            grades_distrib[j]['90~94'] += 1\n",
    "            grades_distrib_all['90~94'] += 1\n",
    "        elif grade[i] >= distrib_[3]:\n",
    "            grades_distrib[j]['85~89'] += 1\n",
    "            grades_distrib_all['85~89'] += 1\n",
    "        elif grade[i] >= distrib_[4]:\n",
    "            grades_distrib[j]['80~84'] += 1\n",
    "            grades_distrib_all['80~84'] += 1\n",
    "        elif grade[i] >= distrib_[5]:\n",
    "            grades_distrib[j]['70~79'] += 1\n",
    "            grades_distrib_all['70~79'] += 1\n",
    "        else:\n",
    "            print('?')\n",
    "            \n",
    "    #记录每学期数据\n",
    "    credits_term.append(credit_)\n",
    "    courses_term.append(course_)\n",
    "    grades_term.append([grade_[0] / credit_[0], grade_[1] / credit_[1]])\n",
    "    points_term.append([point_[0] / credit_[0], point_[1] / credit_[1]]) \n",
    "    "
   ]
  },
  {
   "cell_type": "code",
   "execution_count": 173,
   "metadata": {},
   "outputs": [],
   "source": [
    "#2.3整理选修课情况\n",
    "courses_opt_n = len(courses_opt)\n",
    "\n",
    "#计算选修课学分情况\n",
    "credit_option = {'专业':0, '通识':0, '实践':0}\n",
    "\n",
    "for i in range(courses_opt_n):\n",
    "    for key, value in credit_option.items():\n",
    "        if courses_opt[i][1] == key:\n",
    "            credit_option[key] +=  courses_opt[i][2]"
   ]
  },
  {
   "cell_type": "code",
   "execution_count": 174,
   "metadata": {},
   "outputs": [],
   "source": [
    "print(len(grades_distrib))"
   ]
  },
  {
   "cell_type": "markdown",
   "metadata": {},
   "source": [
    "#-----结果输出-----"
   ]
  },
  {
   "cell_type": "code",
   "execution_count": 175,
   "metadata": {},
   "outputs": [],
   "source": [
    "#绘图\n",
    "def show_distribution(dict_data):\n",
    "    fig = plt.figure()\n",
    "    ax = fig.add_subplot()\n",
    "    data_show = []\n",
    "    index_show = []\n",
    "    for key, value in dict_data.items():\n",
    "        data_show.append(value)\n",
    "        index_show.append(key)\n",
    "    grades_show = pd.Series(data_show, index_show)\n",
    "    grades_show.plot.bar(ax)\n",
    "    \n",
    "def get_avg(data, k):\n",
    "    n = len(data)\n",
    "    avg, credit_ = 0, 0\n",
    "    for i in range(n):\n",
    "        avg += data[i][k] * credits_term[i][k]\n",
    "        credit_ += credits_term[i][k]\n",
    "    return avg/credit_\n",
    "\n",
    "def get_sum(data, k):\n",
    "    n = len(data)\n",
    "    ret = 0\n",
    "    for i in range(n):\n",
    "        ret += data[i][k]\n",
    "    return ret"
   ]
  },
  {
   "cell_type": "code",
   "execution_count": 176,
   "metadata": {},
   "outputs": [
    {
     "data": {
      "image/png": "[encoded data removed]",
      "text/plain": "<Figure size 432x288 with 1 Axes>"
     },
     "metadata": {
      "needs_background": "light"
     },
     "output_type": "display_data"
    },
    {
     "data": {
      "image/png": "[encoded data removed]",
      "text/plain": "<Figure size 432x288 with 1 Axes>"
     },
     "metadata": {
      "needs_background": "light"
     },
     "output_type": "display_data"
    },
    {
     "data": {
      "image/png": "[encoded data removed]",
      "text/plain": "<Figure size 432x288 with 1 Axes>"
     },
     "metadata": {
      "needs_background": "light"
     },
     "output_type": "display_data"
    },
    {
     "data": {
      "image/png": "[encoded data removed]",
      "text/plain": "<Figure size 432x288 with 1 Axes>"
     },
     "metadata": {
      "needs_background": "light"
     },
     "output_type": "display_data"
    },
    {
     "data": {
      "image/png": "[encoded data removed]",
      "text/plain": "<Figure size 432x288 with 1 Axes>"
     },
     "metadata": {
      "needs_background": "light"
     },
     "output_type": "display_data"
    }
   ],
   "source": [
    "for i in range(term_n):\n",
    "    print('-'*50)\n",
    "    print(semesters[i])\n",
    "    print('-'*20)\n",
    "    #基本数据展示\n",
    "    print('本学期所修学分:  {:,.2f}(必修) , {:,.2f}(总共)'.format(credits_term[i][1],credits_term[i][0]))\n",
    "    print('本学期所修课程:  {:,.0f}门(必修) , {:,.0f}门(总共)'.format(courses_term[i][1],courses_term[i][0]))\n",
    "    print('必修课程:   grades: {:,.3f} , point: {:,.3f}'.format(grades_term[i][1] ,points_term[i][1]))\n",
    "    print('所有课程:   grades: {:,.3f} , point: {:,.3f}'.format(grades_term[i][0] ,points_term[i][0]))\n",
    "    #成绩分布\n",
    "    show_distribution(grades_distrib[i])\n",
    "#展示总数据\n",
    "print('-'*50)\n",
    "print('直至' + semesters[term_n-1])\n",
    "print('共修学分/分:     {:,.2f}(必修) , {:,.2f}(总共)'.format(get_sum(credits_term, 1),get_sum(credits_term , 0)))\n",
    "print('共修课程/门:        {:,.0f}(必修) ,     {:,.0f}(总共)'.format(get_sum(courses_term, 1),get_sum(courses_term, 0)))\n",
    "print('必修课程:  grades: {:,.3f} , point: {:,.3f}'.format(get_avg(grades_term, 1) ,get_avg(points_term, 1)))\n",
    "print('所有课程:  grades: {:,.3f} , point: {:,.3f}'.format(get_avg(grades_term, 0) ,get_avg(points_term, 0)))\n",
    "print('-'*10,'选修课情况','-'*10)\n",
    "#成绩分布\n",
    "show_distribution(grades_distrib_all)"
   ]
  }
 ],
 "metadata": {
  "kernelspec": {
   "display_name": "Python 3.8.5 64-bit ('base': conda)",
   "metadata": {
    "interpreter": {
     "hash": "94eda0d4d10145f49ce6e382fbe481981d20f2484a56f3eed06f505e9adfc759"
    }
   },
   "name": "python3"
  },
  "language_info": {
   "codemirror_mode": {
    "name": "ipython",
    "version": 3
   },
   "file_extension": ".py",
   "mimetype": "text/x-python",
   "name": "python",
   "nbconvert_exporter": "python",
   "pygments_lexer": "ipython3",
   "version": "3.8.5"
  },
  "orig_nbformat": 2
 },
 "nbformat": 4,
 "nbformat_minor": 2
}